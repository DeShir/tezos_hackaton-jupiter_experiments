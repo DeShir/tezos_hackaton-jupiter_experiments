{
 "cells": [
  {
   "cell_type": "markdown",
   "id": "1bc2d247",
   "metadata": {},
   "source": [
    "#### Source Wallet Account\n",
    "\n",
    "- Hash: tz1SJiGQwuXLyhCLqFosCw2YsCfqqHjTTSGh\n",
    "- Public Key: edpkuEp219C1UxSuys58uqYCHKFUQD9CyRgnrdr5ADwthGrg2x2L5n\n",
    "- Secret Key: unencrypted:edsk2wfh9Qp9heaozaS3kV3h4UUBFDdNSFcJJoutz47r9jCLD6hrZZ\n",
    "- Seed: ostrich snack across neither inflict diamond slogan two toddler junior initial asthma fine keen reform\n",
    "\n",
    "#### Target Wallet Acount\n",
    "\n",
    "- Hash: tz1WDXpfSBhTH4knXnQg52s98zEvM1WUDvRG\n",
    "- Public Key: edpkvBhbnhH44rHDRHze7MnjKmYQZmpQhVjLG2UeYunFWK23bexn7y\n",
    "- Secret Key: unencrypted:edsk2nzHbTbVHszKyJmXS4tXAfT3vmyR7uWfidjMASivWYp9hJjnw9\n",
    "- Seed: what spend range blur shadow move runway finish exhibit cage task crisp tumble february sleep"
   ]
  },
  {
   "cell_type": "code",
   "execution_count": 293,
   "id": "4f1a0417",
   "metadata": {},
   "outputs": [],
   "source": [
    "import requests;\n",
    "import base58check;\n",
    "import base58;\n",
    "import pprint\n",
    "from cryptography.hazmat.primitives.asymmetric.ed25519 import Ed25519PrivateKey\n",
    "import hashlib\n",
    "import time\n",
    "\n",
    "pp = pprint.PrettyPrinter(indent=2)\n",
    "\n",
    "RPC_ENDPOINT = 'https://rpc.hangzhounet.teztnets.xyz'\n",
    "TARGET_WALLET = 'tz1WDXpfSBhTH4knXnQg52s98zEvM1WUDvRG'\n",
    "SOURCE_WALLET = 'tz1SJiGQwuXLyhCLqFosCw2YsCfqqHjTTSGh'"
   ]
  },
  {
   "cell_type": "code",
   "execution_count": 294,
   "id": "424bc849",
   "metadata": {},
   "outputs": [
    {
     "name": "stdout",
     "output_type": "stream",
     "text": [
      "target: 46460741540\n",
      "source: 88682298577\n",
      "{ 'counter': '3220646',\n",
      "  'hash': 'BLNRq4Wq24Lm625JhidTdoTdSEB4FKGvTwstg98e3HBsaY78QaX',\n",
      "  'protocol': 'PtHangz2aRngywmSRGGvrcTyMbbdpWdpFKuS4uMWxg2RaH9i1qx'}\n"
     ]
    }
   ],
   "source": [
    "# 1. Prepare data\n",
    "print('target: ' + requests.get(RPC_ENDPOINT + '/chains/main/blocks/head/context/contracts/' + TARGET_WALLET).json()['balance'])\n",
    "print('source: ' +  requests.get(RPC_ENDPOINT + '/chains/main/blocks/head/context/contracts/' + SOURCE_WALLET).json()['balance'])\n",
    "\n",
    "header = requests.get(RPC_ENDPOINT + '/chains/main/blocks/head/header').json()\n",
    "metadata = requests.get(RPC_ENDPOINT + '/chains/main/blocks/head/metadata').json()\n",
    "account = requests.get(RPC_ENDPOINT + '/chains/main/blocks/head/context/contracts/' + SOURCE_WALLET).json()\n",
    "chain_id = requests.get(RPC_ENDPOINT + '/chains/main/chain_id').json()\n",
    "\n",
    "branch = header['hash']\n",
    "protocol = metadata['next_protocol']\n",
    "counter = account['counter']\n",
    "\n",
    "pp.pprint({\n",
    "    'hash': branch,\n",
    "    'protocol': protocol,\n",
    "    'counter': counter\n",
    "})"
   ]
  },
  {
   "cell_type": "code",
   "execution_count": 295,
   "id": "b54b76b5",
   "metadata": {},
   "outputs": [],
   "source": [
    "# 2. Dry Run \n",
    "transaction = { \n",
    "    'kind': 'transaction',\n",
    "    'source': SOURCE_WALLET,\n",
    "    'destination': TARGET_WALLET,\n",
    "    'fee': '500000',\n",
    "    'counter': str((int(counter) + 1)),\n",
    "    'gas_limit': '1040000',\n",
    "    'storage_limit': '60000',\n",
    "    'amount': '935385'\n",
    "}\n",
    "\n",
    "operation = {\n",
    "    'branch': branch,\n",
    "    'contents': [transaction],\n",
    "    'signature': 'edsigtXomBKi5CTRf5cjATJWSyaRvhfYNHqSUGrn4SdbYRcGwQrUGjzEfQDTuqHhuA8b2d8NarZjz8TRf65WkpQmo423BtomS8Q'\n",
    "}\n",
    "\n",
    "response = requests.post(RPC_ENDPOINT + '/chains/main/blocks/head/helpers/scripts/run_operation', json = {\n",
    "    'operation': operation,\n",
    "    'chain_id': chain_id\n",
    "}).json()"
   ]
  },
  {
   "cell_type": "code",
   "execution_count": 296,
   "id": "848a84d0",
   "metadata": {},
   "outputs": [
    {
     "name": "stdout",
     "output_type": "stream",
     "text": [
      "Forged data: 03569dbd6388ef80db46b69ce2b10212021c7cb09dbbb743797df8ea9f771f4a8c6c0049219893562ea75cedeefbd6c3aa39fdcdb49075a0c21ea7c9c40180bd3fe0d403d98b39000074074d175f66f74baa66dc6bf10415fcb480e3bc00\n"
     ]
    }
   ],
   "source": [
    "# 3. Forge transaction\n",
    "\n",
    "response = requests.post(RPC_ENDPOINT + '/chains/main/blocks/head/helpers/forge/operations', json = {\n",
    "    'branch': branch,\n",
    "    'contents': [transaction]\n",
    "}).json()\n",
    "\n",
    "forge_bytes = bytes.fromhex(response)\n",
    "forged_string = (b'\\x03' + forge_bytes).hex()\n",
    "print('Forged data: ' + forged_string)"
   ]
  },
  {
   "cell_type": "code",
   "execution_count": 297,
   "id": "09d0d0a0",
   "metadata": {},
   "outputs": [
    {
     "name": "stdout",
     "output_type": "stream",
     "text": [
      "23cc4dc8a63b2039760645926475586480033eff9a830e7938be2b7927330202\n",
      "61e9456e74973a0b97cfcb860f41944a72a5e9351d782efe724736849cbc0ca2\n",
      "0e49c4d1a32e55c83359046e713f934342b990e29e394cfd82a6334f7fbd87121d4cfcdfe8dfcfecfa415e6a28b985cc7a41bd0d1ed488e9bf90af986178ef03\n",
      "edsigtZgBVooT3tDmLAzk52oYfigaHTqaTPgy8d3ycTuDEU4cZyqzvFeQJQpCGLSAFvtP7fhFKA99XDzPZGChzL8cZVXDn2Evwu\n"
     ]
    }
   ],
   "source": [
    "# 4. Sign\n",
    "\n",
    "privatekey_bytes = base58check.b58decode('edsk2wfh9Qp9heaozaS3kV3h4UUBFDdNSFcJJoutz47r9jCLD6hrZZ')[4:][:32]\n",
    "\n",
    "print(privatekey_bytes.hex())\n",
    "\n",
    "hash_bytes = bytes.fromhex(hashlib.blake2b(bytes.fromhex(forged_string), digest_size=32).hexdigest())\n",
    "\n",
    "print(hash_bytes.hex())\n",
    "\n",
    "\n",
    "privatekey = Ed25519PrivateKey.from_private_bytes(privatekey_bytes)\n",
    "\n",
    "sign = privatekey.sign(hash_bytes)\n",
    "\n",
    "print(sign.hex())\n",
    "\n",
    "\n",
    "edsig =  base58.b58encode_check(b'\\x09\\xf5\\xcd\\x86\\x12' + sign).decode('utf-8')\n",
    "\n",
    "print(edsig)\n"
   ]
  },
  {
   "cell_type": "code",
   "execution_count": 298,
   "id": "5c79b7e2",
   "metadata": {},
   "outputs": [
    {
     "name": "stdout",
     "output_type": "stream",
     "text": [
      "[ { 'contents': [ { 'amount': '935385',\n",
      "                    'counter': '3220647',\n",
      "                    'destination': 'tz1WDXpfSBhTH4knXnQg52s98zEvM1WUDvRG',\n",
      "                    'fee': '500000',\n",
      "                    'gas_limit': '1040000',\n",
      "                    'kind': 'transaction',\n",
      "                    'metadata': { 'balance_updates': [ { 'change': '-500000',\n",
      "                                                         'contract': 'tz1SJiGQwuXLyhCLqFosCw2YsCfqqHjTTSGh',\n",
      "                                                         'kind': 'contract',\n",
      "                                                         'origin': 'block'},\n",
      "                                                       { 'category': 'fees',\n",
      "                                                         'change': '500000',\n",
      "                                                         'cycle': 124,\n",
      "                                                         'delegate': 'tz1Ke2h7sDdakHJQh8WX4Z372du1KChsksyU',\n",
      "                                                         'kind': 'freezer',\n",
      "                                                         'origin': 'block'}],\n",
      "                                  'operation_result': { 'balance_updates': [ { 'change': '-935385',\n",
      "                                                                               'contract': 'tz1SJiGQwuXLyhCLqFosCw2YsCfqqHjTTSGh',\n",
      "                                                                               'kind': 'contract',\n",
      "                                                                               'origin': 'block'},\n",
      "                                                                             { 'change': '935385',\n",
      "                                                                               'contract': 'tz1WDXpfSBhTH4knXnQg52s98zEvM1WUDvRG',\n",
      "                                                                               'kind': 'contract',\n",
      "                                                                               'origin': 'block'}],\n",
      "                                                        'consumed_gas': '1420',\n",
      "                                                        'consumed_milligas': '1420000',\n",
      "                                                        'status': 'applied'}},\n",
      "                    'source': 'tz1SJiGQwuXLyhCLqFosCw2YsCfqqHjTTSGh',\n",
      "                    'storage_limit': '60000'}],\n",
      "    'signature': 'edsigtZgBVooT3tDmLAzk52oYfigaHTqaTPgy8d3ycTuDEU4cZyqzvFeQJQpCGLSAFvtP7fhFKA99XDzPZGChzL8cZVXDn2Evwu'}]\n"
     ]
    }
   ],
   "source": [
    "# 5. Preapply\n",
    "\n",
    "preapply_operations = [{\n",
    "    'protocol': protocol,\n",
    "    'branch': branch,\n",
    "    'contents': [transaction],\n",
    "    'signature': edsig\n",
    "}]\n",
    "\n",
    "response = requests.post(RPC_ENDPOINT + '/chains/main/blocks/head/helpers/preapply/operations', json = preapply_operations)\n",
    "\n",
    "pp.pprint(response.json())\n"
   ]
  },
  {
   "cell_type": "code",
   "execution_count": 299,
   "id": "65fadc05",
   "metadata": {},
   "outputs": [
    {
     "name": "stdout",
     "output_type": "stream",
     "text": [
      "'ooMb1FFKN6SaEuJRXe6g5aHCHkE5rUaBa6hYkcTFCay4oj348JR'\n"
     ]
    }
   ],
   "source": [
    "# 6. Inject\n",
    "\n",
    "\n",
    "response = requests.post(RPC_ENDPOINT + '/injection/operation', json = forge_bytes.hex() + sign.hex())\n",
    "\n",
    "operation_hash = response.json()\n",
    "\n",
    "pp.pprint(operation_hash)"
   ]
  },
  {
   "cell_type": "code",
   "execution_count": 301,
   "id": "72c33582",
   "metadata": {},
   "outputs": [
    {
     "name": "stdout",
     "output_type": "stream",
     "text": [
      "target: 46461676925\n",
      "source: 88680863192\n",
      "[ { 'allocationFee': 0,\n",
      "    'amount': 935385,\n",
      "    'bakerFee': 500000,\n",
      "    'block': 'BLR8rAVZxgtDMb6329mFBzrPYybRFPUmQDJzxjgcEvadVG2TQdq',\n",
      "    'counter': 3220647,\n",
      "    'gasLimit': 1040000,\n",
      "    'gasUsed': 1420,\n",
      "    'hasInternals': False,\n",
      "    'hash': 'ooMb1FFKN6SaEuJRXe6g5aHCHkE5rUaBa6hYkcTFCay4oj348JR',\n",
      "    'id': 14907619,\n",
      "    'level': 509866,\n",
      "    'sender': {'address': 'tz1SJiGQwuXLyhCLqFosCw2YsCfqqHjTTSGh'},\n",
      "    'status': 'applied',\n",
      "    'storageFee': 0,\n",
      "    'storageLimit': 60000,\n",
      "    'storageUsed': 0,\n",
      "    'target': {'address': 'tz1WDXpfSBhTH4knXnQg52s98zEvM1WUDvRG'},\n",
      "    'timestamp': '2022-02-12T10:46:23Z',\n",
      "    'type': 'transaction'}]\n"
     ]
    }
   ],
   "source": [
    "# 7. Check balances\n",
    "print('target: ' + requests.get(RPC_ENDPOINT + '/chains/main/blocks/head/context/contracts/' + TARGET_WALLET).json()['balance'])\n",
    "print('source: ' +  requests.get(RPC_ENDPOINT + '/chains/main/blocks/head/context/contracts/' + SOURCE_WALLET).json()['balance'])\n",
    "\n",
    "pp.pprint(requests.get('https://api.hangzhou2net.tzkt.io/v1/operations/' + operation_hash).json())\n",
    "\n",
    "\n",
    "\n"
   ]
  },
  {
   "cell_type": "code",
   "execution_count": null,
   "id": "cbeebc16",
   "metadata": {},
   "outputs": [],
   "source": []
  }
 ],
 "metadata": {
  "kernelspec": {
   "display_name": "Python 3",
   "language": "python",
   "name": "python3"
  },
  "language_info": {
   "codemirror_mode": {
    "name": "ipython",
    "version": 3
   },
   "file_extension": ".py",
   "mimetype": "text/x-python",
   "name": "python",
   "nbconvert_exporter": "python",
   "pygments_lexer": "ipython3",
   "version": "3.9.10"
  }
 },
 "nbformat": 4,
 "nbformat_minor": 5
}
